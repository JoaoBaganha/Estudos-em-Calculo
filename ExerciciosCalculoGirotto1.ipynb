{
  "nbformat": 4,
  "nbformat_minor": 0,
  "metadata": {
    "colab": {
      "provenance": []
    },
    "kernelspec": {
      "name": "python3",
      "display_name": "Python 3"
    },
    "language_info": {
      "name": "python"
    }
  },
  "cells": [
    {
      "cell_type": "code",
      "execution_count": null,
      "metadata": {
        "id": "SuAUVUIS09Ra"
      },
      "outputs": [],
      "source": [
        "from sympy import *\n",
        "from string import *"
      ]
    },
    {
      "cell_type": "code",
      "source": [
        "x = symbols(\"x\")\n",
        "y = symbols(\"y\")\n",
        "z = symbols(\"z\")"
      ],
      "metadata": {
        "id": "pm-LoFq31fr8"
      },
      "execution_count": null,
      "outputs": []
    },
    {
      "cell_type": "code",
      "source": [
        "questaoUm = Eq(Rational(5,9) + Rational(10,9), Rational(15,9))\n",
        "questaoUm"
      ],
      "metadata": {
        "colab": {
          "base_uri": "https://localhost:8080/",
          "height": 37
        },
        "id": "jcBg4SMv1quD",
        "outputId": "de712e48-101b-4562-bf4c-520a449e2e30"
      },
      "execution_count": null,
      "outputs": [
        {
          "output_type": "execute_result",
          "data": {
            "text/plain": [
              "True"
            ],
            "text/latex": "$\\displaystyle \\text{True}$"
          },
          "metadata": {},
          "execution_count": 96
        }
      ]
    },
    {
      "cell_type": "code",
      "source": [
        "questaoDois = Rational(17,32) - Rational(9,32)\n",
        "questaoDois"
      ],
      "metadata": {
        "colab": {
          "base_uri": "https://localhost:8080/",
          "height": 51
        },
        "id": "MY_u_38a2W5J",
        "outputId": "f9197d47-98bd-45fd-8e3d-88145aa03b5a"
      },
      "execution_count": null,
      "outputs": [
        {
          "output_type": "execute_result",
          "data": {
            "text/plain": [
              "1/4"
            ],
            "text/latex": "$\\displaystyle \\frac{1}{4}$"
          },
          "metadata": {},
          "execution_count": 97
        }
      ]
    },
    {
      "cell_type": "code",
      "source": [
        "questaoTres = Rational(20,21) * Rational(9,22)\n",
        "questaoTres"
      ],
      "metadata": {
        "colab": {
          "base_uri": "https://localhost:8080/",
          "height": 51
        },
        "id": "6FM0zAjM4izl",
        "outputId": "3c57dcb3-1102-4d6f-dc8d-93159cccac99"
      },
      "execution_count": null,
      "outputs": [
        {
          "output_type": "execute_result",
          "data": {
            "text/plain": [
              "30/77"
            ],
            "text/latex": "$\\displaystyle \\frac{30}{77}$"
          },
          "metadata": {},
          "execution_count": 98
        }
      ]
    },
    {
      "cell_type": "code",
      "source": [
        "questaoQuatro = Rational(9,4) / Rational(15,10)\n",
        "questaoQuatro\n"
      ],
      "metadata": {
        "colab": {
          "base_uri": "https://localhost:8080/",
          "height": 51
        },
        "id": "NClOYc1-4tQc",
        "outputId": "459e2961-248a-42fb-c4cc-6017b8d114f1"
      },
      "execution_count": null,
      "outputs": [
        {
          "output_type": "execute_result",
          "data": {
            "text/plain": [
              "3/2"
            ],
            "text/latex": "$\\displaystyle \\frac{3}{2}$"
          },
          "metadata": {},
          "execution_count": 99
        }
      ]
    },
    {
      "cell_type": "code",
      "source": [
        "#### EXERCÍCIO DENOMINADOR E NUMERADOR FALTANTE ####"
      ],
      "metadata": {
        "id": "Yc1t20aZ9ASl"
      },
      "execution_count": null,
      "outputs": []
    },
    {
      "cell_type": "code",
      "source": [
        "Eq(2 / (3*x), z / (12*x**3))\n"
      ],
      "metadata": {
        "colab": {
          "base_uri": "https://localhost:8080/",
          "height": 51
        },
        "id": "Oe5sZHkz9PwR",
        "outputId": "40624e8b-4814-4f69-d863-960762c370e0"
      },
      "execution_count": null,
      "outputs": [
        {
          "output_type": "execute_result",
          "data": {
            "text/plain": [
              "Eq(2/(3*x), z/(12*x**3))"
            ],
            "text/latex": "$\\displaystyle \\frac{2}{3 x} = \\frac{z}{12 x^{3}}$"
          },
          "metadata": {},
          "execution_count": 117
        }
      ]
    },
    {
      "cell_type": "code",
      "source": [
        "equation = (solveset(Eq( (x + 3)/(x - 2), z/(x**2 + 2*x - 8)), z))\n"
      ],
      "metadata": {
        "id": "jOplYKG_Ewgv"
      },
      "execution_count": null,
      "outputs": []
    },
    {
      "cell_type": "code",
      "source": [
        "factor(equation)"
      ],
      "metadata": {
        "colab": {
          "base_uri": "https://localhost:8080/",
          "height": 39
        },
        "id": "RN1jdxLiFygl",
        "outputId": "29166c01-7e35-4440-efc0-12a4a4c21c1d"
      },
      "execution_count": null,
      "outputs": [
        {
          "output_type": "execute_result",
          "data": {
            "text/plain": [
              "{(x + 3)*(x + 4)}"
            ],
            "text/latex": "$\\displaystyle \\left\\{\\left(x + 3\\right) \\left(x + 4\\right)\\right\\}$"
          },
          "metadata": {},
          "execution_count": 128
        }
      ]
    },
    {
      "cell_type": "code",
      "source": [],
      "metadata": {
        "id": "jR0SspBVGpSI"
      },
      "execution_count": null,
      "outputs": []
    }
  ]
}