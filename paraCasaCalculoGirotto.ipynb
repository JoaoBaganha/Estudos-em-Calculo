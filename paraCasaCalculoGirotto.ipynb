{
  "cells": [
    {
      "cell_type": "code",
      "execution_count": null,
      "metadata": {
        "id": "3kYanVk44uic"
      },
      "outputs": [],
      "source": [
        "from sympy import *"
      ]
    },
    {
      "cell_type": "markdown",
      "metadata": {
        "id": "BwY24c395UoC"
      },
      "source": [
        "**QUESTÃO 1**\n",
        "\n"
      ]
    },
    {
      "cell_type": "code",
      "execution_count": null,
      "metadata": {
        "id": "ARb7Petb40NK"
      },
      "outputs": [],
      "source": [
        "x = symbols('x')\n",
        "#Pi = 3"
      ]
    },
    {
      "cell_type": "code",
      "execution_count": null,
      "metadata": {
        "colab": {
          "base_uri": "https://localhost:8080/",
          "height": 68
        },
        "id": "6SxKB7uU5cl7",
        "outputId": "b2db748f-fb4b-482a-8ae3-94e3a93a2d01"
      },
      "outputs": [
        {
          "output_type": "execute_result",
          "data": {
            "text/plain": [
              "{-40*sqrt(11)/11, 40*sqrt(11)/11}"
            ],
            "text/latex": "$\\displaystyle \\left\\{- \\frac{40 \\sqrt{11}}{11}, \\frac{40 \\sqrt{11}}{11}\\right\\}$"
          },
          "metadata": {},
          "execution_count": 23
        }
      ],
      "source": [
        "solveset(Eq( x**2  + (3 * (x/2)**2) / 2 , 200))"
      ]
    },
    {
      "cell_type": "markdown",
      "metadata": {
        "id": "9Orrn3TF09gA"
      },
      "source": [
        "**Questão 2**"
      ]
    },
    {
      "cell_type": "code",
      "execution_count": null,
      "metadata": {
        "colab": {
          "base_uri": "https://localhost:8080/",
          "height": 40
        },
        "id": "_xRAzm2H1BrV",
        "outputId": "62a76bce-37e4-45f5-ec8b-dde813b2f544"
      },
      "outputs": [
        {
          "output_type": "execute_result",
          "data": {
            "text/plain": [
              "Eq(324, x**2 + (x + 5)**2)"
            ],
            "text/latex": "$\\displaystyle 324 = x^{2} + \\left(x + 5\\right)^{2}$"
          },
          "metadata": {},
          "execution_count": 24
        }
      ],
      "source": [
        "equacaoEscada = Eq(18**2, x**2 + (x+5)**2)\n",
        "equacaoEscada"
      ]
    },
    {
      "cell_type": "code",
      "source": [
        "equacaoEscada = simplify(equacaoEscada)\n",
        "equacaoEscada"
      ],
      "metadata": {
        "colab": {
          "base_uri": "https://localhost:8080/",
          "height": 51
        },
        "id": "GKNAwQRFSGRQ",
        "outputId": "5ecab101-ce81-4610-ac2b-81c7bf495aa3"
      },
      "execution_count": null,
      "outputs": [
        {
          "output_type": "execute_result",
          "data": {
            "text/plain": [
              "Eq(x**2 + 5*x, 299/2)"
            ],
            "text/latex": "$\\displaystyle x^{2} + 5 x = \\frac{299}{2}$"
          },
          "metadata": {},
          "execution_count": 25
        }
      ]
    },
    {
      "cell_type": "code",
      "source": [
        "solveset(equacaoEscada)"
      ],
      "metadata": {
        "colab": {
          "base_uri": "https://localhost:8080/",
          "height": 68
        },
        "id": "2GjQ6COJSJSi",
        "outputId": "3b5bf5a1-6c78-45ac-863d-fca9bac722bd"
      },
      "execution_count": null,
      "outputs": [
        {
          "output_type": "execute_result",
          "data": {
            "text/plain": [
              "{-5/2 + sqrt(623)/2, -sqrt(623)/2 - 5/2}"
            ],
            "text/latex": "$\\displaystyle \\left\\{- \\frac{5}{2} + \\frac{\\sqrt{623}}{2}, - \\frac{\\sqrt{623}}{2} - \\frac{5}{2}\\right\\}$"
          },
          "metadata": {},
          "execution_count": 26
        }
      ]
    },
    {
      "cell_type": "markdown",
      "source": [
        "**Questão 3** - A)\n"
      ],
      "metadata": {
        "id": "gXDLDKXYSZDc"
      }
    },
    {
      "cell_type": "code",
      "source": [
        "equacaoVolume = Eq((x * (12 - 2*x) * (15 - 2*x)), 125)\n",
        "equacaoVolume"
      ],
      "metadata": {
        "colab": {
          "base_uri": "https://localhost:8080/",
          "height": 39
        },
        "id": "eJ7SD8x0VtrX",
        "outputId": "e18dae3a-16b0-4ec9-b5ad-24f94d166d83"
      },
      "execution_count": null,
      "outputs": [
        {
          "output_type": "execute_result",
          "data": {
            "text/plain": [
              "Eq(x*(12 - 2*x)*(15 - 2*x), 125)"
            ],
            "text/latex": "$\\displaystyle x \\left(12 - 2 x\\right) \\left(15 - 2 x\\right) = 125$"
          },
          "metadata": {},
          "execution_count": 27
        }
      ]
    },
    {
      "cell_type": "code",
      "source": [
        "equacaoVolume = simplify(equacaoVolume)\n",
        "equacaoVolume"
      ],
      "metadata": {
        "colab": {
          "base_uri": "https://localhost:8080/",
          "height": 51
        },
        "id": "3LIa8wCAcRH0",
        "outputId": "106afea6-9085-4c46-afb3-70a23e3e5eae"
      },
      "execution_count": null,
      "outputs": [
        {
          "output_type": "execute_result",
          "data": {
            "text/plain": [
              "Eq(2*x**3 - 27*x**2 + 90*x, 125/2)"
            ],
            "text/latex": "$\\displaystyle 2 x^{3} - 27 x^{2} + 90 x = \\frac{125}{2}$"
          },
          "metadata": {},
          "execution_count": 29
        }
      ]
    },
    {
      "cell_type": "code",
      "source": [
        "solveset(equacaoVolume)"
      ],
      "metadata": {
        "id": "PvL_3Uptc2BT",
        "colab": {
          "base_uri": "https://localhost:8080/",
          "height": 141
        },
        "outputId": "f1486a79-63e1-4bff-8bd8-3204108a3ae7"
      },
      "execution_count": null,
      "outputs": [
        {
          "output_type": "execute_result",
          "data": {
            "text/plain": [
              "{sqrt(21)*cos(atan(5*sqrt(293)/44)/3) + 9/2, -sqrt(21)*cos(atan(5*sqrt(293)/44)/3)/4 + 21*re(1/((-1/2 - sqrt(3)*I/2)*(11/2 + 5*sqrt(293)*I/8)**(1/3)))/4 + 3*sqrt(7)*sin(atan(5*sqrt(293)/44)/3)/4 + 9/2 + I*(-3*sqrt(7)*cos(atan(5*sqrt(293)/44)/3)/4 - sqrt(21)*sin(atan(5*sqrt(293)/44)/3)/4 + 21*im(1/((-1/2 - sqrt(3)*I/2)*(11/2 + 5*sqrt(293)*I/8)**(1/3)))/4), 21*re(1/((-1/2 + sqrt(3)*I/2)*(11/2 + 5*sqrt(293)*I/8)**(1/3)))/4 - sqrt(21)*cos(atan(5*sqrt(293)/44)/3)/4 - 3*sqrt(7)*sin(atan(5*sqrt(293)/44)/3)/4 + 9/2 + I*(21*im(1/((-1/2 + sqrt(3)*I/2)*(11/2 + 5*sqrt(293)*I/8)**(1/3)))/4 - sqrt(21)*sin(atan(5*sqrt(293)/44)/3)/4 + 3*sqrt(7)*cos(atan(5*sqrt(293)/44)/3)/4)}"
            ],
            "text/latex": "$\\displaystyle \\left\\{\\sqrt{21} \\cos{\\left(\\frac{\\operatorname{atan}{\\left(\\frac{5 \\sqrt{293}}{44} \\right)}}{3} \\right)} + \\frac{9}{2}, - \\frac{\\sqrt{21} \\cos{\\left(\\frac{\\operatorname{atan}{\\left(\\frac{5 \\sqrt{293}}{44} \\right)}}{3} \\right)}}{4} + \\frac{21 \\operatorname{re}{\\left(\\frac{1}{\\left(- \\frac{1}{2} - \\frac{\\sqrt{3} i}{2}\\right) \\sqrt[3]{\\frac{11}{2} + \\frac{5 \\sqrt{293} i}{8}}}\\right)}}{4} + \\frac{3 \\sqrt{7} \\sin{\\left(\\frac{\\operatorname{atan}{\\left(\\frac{5 \\sqrt{293}}{44} \\right)}}{3} \\right)}}{4} + \\frac{9}{2} + i \\left(- \\frac{3 \\sqrt{7} \\cos{\\left(\\frac{\\operatorname{atan}{\\left(\\frac{5 \\sqrt{293}}{44} \\right)}}{3} \\right)}}{4} - \\frac{\\sqrt{21} \\sin{\\left(\\frac{\\operatorname{atan}{\\left(\\frac{5 \\sqrt{293}}{44} \\right)}}{3} \\right)}}{4} + \\frac{21 \\operatorname{im}{\\left(\\frac{1}{\\left(- \\frac{1}{2} - \\frac{\\sqrt{3} i}{2}\\right) \\sqrt[3]{\\frac{11}{2} + \\frac{5 \\sqrt{293} i}{8}}}\\right)}}{4}\\right), \\frac{21 \\operatorname{re}{\\left(\\frac{1}{\\left(- \\frac{1}{2} + \\frac{\\sqrt{3} i}{2}\\right) \\sqrt[3]{\\frac{11}{2} + \\frac{5 \\sqrt{293} i}{8}}}\\right)}}{4} - \\frac{\\sqrt{21} \\cos{\\left(\\frac{\\operatorname{atan}{\\left(\\frac{5 \\sqrt{293}}{44} \\right)}}{3} \\right)}}{4} - \\frac{3 \\sqrt{7} \\sin{\\left(\\frac{\\operatorname{atan}{\\left(\\frac{5 \\sqrt{293}}{44} \\right)}}{3} \\right)}}{4} + \\frac{9}{2} + i \\left(\\frac{21 \\operatorname{im}{\\left(\\frac{1}{\\left(- \\frac{1}{2} + \\frac{\\sqrt{3} i}{2}\\right) \\sqrt[3]{\\frac{11}{2} + \\frac{5 \\sqrt{293} i}{8}}}\\right)}}{4} - \\frac{\\sqrt{21} \\sin{\\left(\\frac{\\operatorname{atan}{\\left(\\frac{5 \\sqrt{293}}{44} \\right)}}{3} \\right)}}{4} + \\frac{3 \\sqrt{7} \\cos{\\left(\\frac{\\operatorname{atan}{\\left(\\frac{5 \\sqrt{293}}{44} \\right)}}{3} \\right)}}{4}\\right)\\right\\}$"
          },
          "metadata": {},
          "execution_count": 31
        }
      ]
    },
    {
      "cell_type": "code",
      "source": [
        "plot(x * (12 - 2*x) * (15 - 2*x), 125, ylim = (0, 225) )"
      ],
      "metadata": {
        "colab": {
          "base_uri": "https://localhost:8080/",
          "height": 504
        },
        "id": "PP_yYvZqady4",
        "outputId": "45d2f1de-6cc4-4924-a99a-922f76c1f0ed"
      },
      "execution_count": null,
      "outputs": [
        {
          "output_type": "display_data",
          "data": {
            "text/plain": [
              "<Figure size 640x480 with 1 Axes>"
            ],
            "image/png": "[encoded data removed]"
          },
          "metadata": {}
        },
        {
          "output_type": "execute_result",
          "data": {
            "text/plain": [
              "<sympy.plotting.backends.matplotlibbackend.matplotlib.MatplotlibBackend at 0x7c334b9097e0>"
            ]
          },
          "metadata": {},
          "execution_count": 53
        }
      ]
    },
    {
      "cell_type": "markdown",
      "source": [
        "**Questão 3** - B)\n"
      ],
      "metadata": {
        "id": "jMMoGYq4XKT2"
      }
    },
    {
      "cell_type": "code",
      "source": [],
      "metadata": {
        "id": "QejwD9WjXrl-"
      },
      "execution_count": null,
      "outputs": []
    }
  ],
  "metadata": {
    "colab": {
      "provenance": []
    },
    "kernelspec": {
      "display_name": "Python 3",
      "name": "python3"
    },
    "language_info": {
      "name": "python"
    }
  },
  "nbformat": 4,
  "nbformat_minor": 0
}