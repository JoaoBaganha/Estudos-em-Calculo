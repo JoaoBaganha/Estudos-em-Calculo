{
  "nbformat": 4,
  "nbformat_minor": 0,
  "metadata": {
    "colab": {
      "provenance": []
    },
    "kernelspec": {
      "name": "python3",
      "display_name": "Python 3"
    },
    "language_info": {
      "name": "python"
    }
  },
  "cells": [
    {
      "cell_type": "code",
      "execution_count": null,
      "metadata": {
        "id": "uC5paqwBHqL7"
      },
      "outputs": [],
      "source": [
        "from sympy import *"
      ]
    },
    {
      "cell_type": "code",
      "source": [
        "x = symbols('x')"
      ],
      "metadata": {
        "id": "FJzUfSisJ5n1"
      },
      "execution_count": null,
      "outputs": []
    },
    {
      "cell_type": "code",
      "source": [
        "termo1 = x**3 - 3*x + 2\n",
        "termo1"
      ],
      "metadata": {
        "colab": {
          "base_uri": "https://localhost:8080/",
          "height": 39
        },
        "id": "pvkJJXN1HtPd",
        "outputId": "1f21fe76-c8e9-436e-ed33-41bba3ccb73e"
      },
      "execution_count": null,
      "outputs": [
        {
          "output_type": "execute_result",
          "data": {
            "text/plain": [
              "x**3 - 3*x + 2"
            ],
            "text/latex": "$\\displaystyle x^{3} - 3 x + 2$"
          },
          "metadata": {},
          "execution_count": 109
        }
      ]
    },
    {
      "cell_type": "code",
      "source": [
        "termo2 = x**2 - 4\n",
        "termo2"
      ],
      "metadata": {
        "colab": {
          "base_uri": "https://localhost:8080/",
          "height": 39
        },
        "id": "ZZ0ALkXxJ8cp",
        "outputId": "a813d7ea-1d43-4a26-fcb1-426d00ad9543"
      },
      "execution_count": null,
      "outputs": [
        {
          "output_type": "execute_result",
          "data": {
            "text/plain": [
              "x**2 - 4"
            ],
            "text/latex": "$\\displaystyle x^{2} - 4$"
          },
          "metadata": {},
          "execution_count": 110
        }
      ]
    },
    {
      "cell_type": "code",
      "source": [
        "divisao = (termo1 / termo2)\n",
        "divisao"
      ],
      "metadata": {
        "colab": {
          "base_uri": "https://localhost:8080/",
          "height": 55
        },
        "id": "fdnT5k1IKNRO",
        "outputId": "71f1ce1f-c5c9-4197-b9ba-ee70e6114091"
      },
      "execution_count": null,
      "outputs": [
        {
          "output_type": "execute_result",
          "data": {
            "text/plain": [
              "(x**3 - 3*x + 2)/(x**2 - 4)"
            ],
            "text/latex": "$\\displaystyle \\frac{x^{3} - 3 x + 2}{x^{2} - 4}$"
          },
          "metadata": {},
          "execution_count": 111
        }
      ]
    },
    {
      "cell_type": "code",
      "source": [
        "exemplo1 = factor(divisao)\n",
        "exemplo1"
      ],
      "metadata": {
        "colab": {
          "base_uri": "https://localhost:8080/",
          "height": 58
        },
        "id": "UxLjJzCVLL5B",
        "outputId": "0c12130f-7809-4e1f-f3c7-a2049254ec32"
      },
      "execution_count": null,
      "outputs": [
        {
          "output_type": "execute_result",
          "data": {
            "text/plain": [
              "(x - 1)**2/(x - 2)"
            ],
            "text/latex": "$\\displaystyle \\frac{\\left(x - 1\\right)^{2}}{x - 2}$"
          },
          "metadata": {},
          "execution_count": 112
        }
      ]
    },
    {
      "cell_type": "code",
      "source": [
        "limit(exemplo1, x, -2)"
      ],
      "metadata": {
        "colab": {
          "base_uri": "https://localhost:8080/",
          "height": 51
        },
        "id": "9w0ta6nbKREa",
        "outputId": "16cbe375-218b-4e38-9de0-3bd7c5a93dbd"
      },
      "execution_count": null,
      "outputs": [
        {
          "output_type": "execute_result",
          "data": {
            "text/plain": [
              "-9/4"
            ],
            "text/latex": "$\\displaystyle - \\frac{9}{4}$"
          },
          "metadata": {},
          "execution_count": 113
        }
      ]
    },
    {
      "cell_type": "code",
      "source": [
        "exemplo2 = (x**2 - 16) / (sqrt(x) - 2)\n",
        "exemplo2"
      ],
      "metadata": {
        "colab": {
          "base_uri": "https://localhost:8080/",
          "height": 58
        },
        "id": "2zYOw7_DKhFa",
        "outputId": "c1245516-f382-45ca-bc7f-a679b0879797"
      },
      "execution_count": null,
      "outputs": [
        {
          "output_type": "execute_result",
          "data": {
            "text/plain": [
              "(x**2 - 16)/(sqrt(x) - 2)"
            ],
            "text/latex": "$\\displaystyle \\frac{x^{2} - 16}{\\sqrt{x} - 2}$"
          },
          "metadata": {},
          "execution_count": 114
        }
      ]
    },
    {
      "cell_type": "code",
      "source": [
        "factor(exemplo2)"
      ],
      "metadata": {
        "colab": {
          "base_uri": "https://localhost:8080/",
          "height": 57
        },
        "id": "nE4ZdbbbL2WK",
        "outputId": "df7a2caa-b303-43af-9623-d53748f4ff33"
      },
      "execution_count": null,
      "outputs": [
        {
          "output_type": "execute_result",
          "data": {
            "text/plain": [
              "(x - 4)*(x + 4)/(sqrt(x) - 2)"
            ],
            "text/latex": "$\\displaystyle \\frac{\\left(x - 4\\right) \\left(x + 4\\right)}{\\sqrt{x} - 2}$"
          },
          "metadata": {},
          "execution_count": 115
        }
      ]
    },
    {
      "cell_type": "code",
      "source": [
        "limit(exemplo2, x, 4)"
      ],
      "metadata": {
        "colab": {
          "base_uri": "https://localhost:8080/",
          "height": 37
        },
        "id": "HeQkpobYMC2M",
        "outputId": "41333b19-0120-4e25-f9a6-5cf25755c36e"
      },
      "execution_count": null,
      "outputs": [
        {
          "output_type": "execute_result",
          "data": {
            "text/plain": [
              "32"
            ],
            "text/latex": "$\\displaystyle 32$"
          },
          "metadata": {},
          "execution_count": 116
        }
      ]
    },
    {
      "cell_type": "code",
      "source": [
        "questao4 = (sqrt(3*x - 2) - 2) / (sqrt(4*x + 1) - 3)\n",
        "questao4"
      ],
      "metadata": {
        "colab": {
          "base_uri": "https://localhost:8080/",
          "height": 59
        },
        "id": "lfh_wR6YQiqk",
        "outputId": "b5561762-16fb-4b23-f2de-f70a797802b2"
      },
      "execution_count": null,
      "outputs": [
        {
          "output_type": "execute_result",
          "data": {
            "text/plain": [
              "(sqrt(3*x - 2) - 2)/(sqrt(4*x + 1) - 3)"
            ],
            "text/latex": "$\\displaystyle \\frac{\\sqrt{3 x - 2} - 2}{\\sqrt{4 x + 1} - 3}$"
          },
          "metadata": {},
          "execution_count": 118
        }
      ]
    },
    {
      "cell_type": "code",
      "source": [
        "limiteQuestao4Teste = (sqrt(3*x - 2) - 2) / (sqrt(4*x + 1) - 3)\n",
        "limit(limiteQuestao4Teste, x, 3)"
      ],
      "metadata": {
        "colab": {
          "base_uri": "https://localhost:8080/",
          "height": 60
        },
        "id": "0EmhSz_XTZet",
        "outputId": "2ebd9767-4c56-451f-c056-db5339da84cb"
      },
      "execution_count": null,
      "outputs": [
        {
          "output_type": "execute_result",
          "data": {
            "text/plain": [
              "(-2 + sqrt(7))/(-3 + sqrt(13))"
            ],
            "text/latex": "$\\displaystyle \\frac{-2 + \\sqrt{7}}{-3 + \\sqrt{13}}$"
          },
          "metadata": {},
          "execution_count": 119
        }
      ]
    },
    {
      "cell_type": "code",
      "source": [
        "questao4 = radsimp(questao4)\n",
        "questao4"
      ],
      "metadata": {
        "colab": {
          "base_uri": "https://localhost:8080/",
          "height": 56
        },
        "id": "yTg24rrvRPP4",
        "outputId": "9f690f7e-d730-4974-d408-89c7c09ca3b4"
      },
      "execution_count": null,
      "outputs": [
        {
          "output_type": "execute_result",
          "data": {
            "text/plain": [
              "(sqrt(3*x - 2)*sqrt(4*x + 1) + 3*sqrt(3*x - 2) - 2*sqrt(4*x + 1) - 6)/(4*x - 8)"
            ],
            "text/latex": "$\\displaystyle \\frac{\\sqrt{3 x - 2} \\sqrt{4 x + 1} + 3 \\sqrt{3 x - 2} - 2 \\sqrt{4 x + 1} - 6}{4 x - 8}$"
          },
          "metadata": {},
          "execution_count": 120
        }
      ]
    },
    {
      "cell_type": "code",
      "source": [
        "factor(questao4)"
      ],
      "metadata": {
        "colab": {
          "base_uri": "https://localhost:8080/",
          "height": 60
        },
        "id": "vdVn21KDSEZe",
        "outputId": "c52ef8d8-0c9e-4c82-cae4-cf3a8e0076ad"
      },
      "execution_count": null,
      "outputs": [
        {
          "output_type": "execute_result",
          "data": {
            "text/plain": [
              "(sqrt(3*x - 2) - 2)*(sqrt(4*x + 1) + 3)/(4*(x - 2))"
            ],
            "text/latex": "$\\displaystyle \\frac{\\left(\\sqrt{3 x - 2} - 2\\right) \\left(\\sqrt{4 x + 1} + 3\\right)}{4 \\left(x - 2\\right)}$"
          },
          "metadata": {},
          "execution_count": 121
        }
      ]
    },
    {
      "cell_type": "code",
      "source": [
        "resultado = (limit(questao4, x, 3))\n",
        "resultado\n"
      ],
      "metadata": {
        "colab": {
          "base_uri": "https://localhost:8080/",
          "height": 55
        },
        "id": "aKZg-PQYRRUp",
        "outputId": "b0773a70-a114-49c9-ab8d-292aa1cdd348"
      },
      "execution_count": null,
      "outputs": [
        {
          "output_type": "execute_result",
          "data": {
            "text/plain": [
              "-sqrt(13)/2 - 3/2 + 3*sqrt(7)/4 + sqrt(91)/4"
            ],
            "text/latex": "$\\displaystyle - \\frac{\\sqrt{13}}{2} - \\frac{3}{2} + \\frac{3 \\sqrt{7}}{4} + \\frac{\\sqrt{91}}{4}$"
          },
          "metadata": {},
          "execution_count": 122
        }
      ]
    },
    {
      "cell_type": "code",
      "source": [
        "factor(resultado)"
      ],
      "metadata": {
        "colab": {
          "base_uri": "https://localhost:8080/",
          "height": 55
        },
        "id": "fk-xBEuSRmGC",
        "outputId": "cde75d34-6d7f-43e5-d6cf-e8b1c00eda74"
      },
      "execution_count": null,
      "outputs": [
        {
          "output_type": "execute_result",
          "data": {
            "text/plain": [
              "-(-sqrt(91) - 3*sqrt(7) + 6 + 2*sqrt(13))/4"
            ],
            "text/latex": "$\\displaystyle - \\frac{- \\sqrt{91} - 3 \\sqrt{7} + 6 + 2 \\sqrt{13}}{4}$"
          },
          "metadata": {},
          "execution_count": 123
        }
      ]
    }
  ]
}