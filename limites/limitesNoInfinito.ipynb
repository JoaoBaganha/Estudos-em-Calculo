{
  "nbformat": 4,
  "nbformat_minor": 0,
  "metadata": {
    "colab": {
      "provenance": []
    },
    "kernelspec": {
      "name": "python3",
      "display_name": "Python 3"
    },
    "language_info": {
      "name": "python"
    }
  },
  "cells": [
    {
      "cell_type": "code",
      "execution_count": null,
      "metadata": {
        "id": "LWqLlfASFVSB"
      },
      "outputs": [],
      "source": [
        "from sympy import *"
      ]
    },
    {
      "cell_type": "code",
      "source": [
        "x = symbols('x')"
      ],
      "metadata": {
        "id": "3vnuv07IGna7"
      },
      "execution_count": null,
      "outputs": []
    },
    {
      "cell_type": "code",
      "source": [
        "fx = 1 - 1/x\n",
        "fx"
      ],
      "metadata": {
        "colab": {
          "base_uri": "https://localhost:8080/",
          "height": 51
        },
        "id": "Nt-E57rLH8Xu",
        "outputId": "315eff87-70a7-4eb5-890c-6ce7a609e812"
      },
      "execution_count": null,
      "outputs": [
        {
          "output_type": "execute_result",
          "data": {
            "text/plain": [
              "1 - 1/x"
            ],
            "text/latex": "$\\displaystyle 1 - \\frac{1}{x}$"
          },
          "metadata": {},
          "execution_count": 4
        }
      ]
    },
    {
      "cell_type": "code",
      "source": [
        "plot (fx) #Vai sempre tender a 0"
      ],
      "metadata": {
        "colab": {
          "base_uri": "https://localhost:8080/",
          "height": 504
        },
        "id": "z4ZwFW_lIMBA",
        "outputId": "261699b3-abb8-4f20-8b85-85f0a772a4b7"
      },
      "execution_count": null,
      "outputs": [
        {
          "output_type": "display_data",
          "data": {
            "text/plain": [
              "<Figure size 640x480 with 1 Axes>"
            ],
            "image/png": "[encoded data removed]"
          },
          "metadata": {}
        },
        {
          "output_type": "execute_result",
          "data": {
            "text/plain": [
              "<sympy.plotting.backends.matplotlibbackend.matplotlib.MatplotlibBackend at 0x7808984dc3d0>"
            ]
          },
          "metadata": {},
          "execution_count": 7
        }
      ]
    },
    {
      "cell_type": "code",
      "source": [
        "limit(fx, x, 0)"
      ],
      "metadata": {
        "colab": {
          "base_uri": "https://localhost:8080/",
          "height": 37
        },
        "id": "k3IMYuQ4IPg4",
        "outputId": "50fedfef-59ca-47e1-86dd-75ef8a7c3341"
      },
      "execution_count": null,
      "outputs": [
        {
          "output_type": "execute_result",
          "data": {
            "text/plain": [
              "-oo"
            ],
            "text/latex": "$\\displaystyle -\\infty$"
          },
          "metadata": {},
          "execution_count": 25
        }
      ]
    },
    {
      "cell_type": "code",
      "source": [
        "limit(fx, x, oo)"
      ],
      "metadata": {
        "colab": {
          "base_uri": "https://localhost:8080/",
          "height": 37
        },
        "id": "h1RtuKf0Idc_",
        "outputId": "80c092e3-ebfd-498e-b212-69be9fe3547d"
      },
      "execution_count": null,
      "outputs": [
        {
          "output_type": "execute_result",
          "data": {
            "text/plain": [
              "1"
            ],
            "text/latex": "$\\displaystyle 1$"
          },
          "metadata": {},
          "execution_count": 16
        }
      ]
    },
    {
      "cell_type": "code",
      "source": [
        "exemplo1 = ((2*x + 5) / sqrt(2*x**2 - 5))\n",
        "exemplo1"
      ],
      "metadata": {
        "colab": {
          "base_uri": "https://localhost:8080/",
          "height": 55
        },
        "id": "ZIOtklx6ImDz",
        "outputId": "5f5cc0af-af5c-43c9-8fdb-a7995b8a72f9"
      },
      "execution_count": null,
      "outputs": [
        {
          "output_type": "execute_result",
          "data": {
            "text/plain": [
              "(2*x + 5)/sqrt(2*x**2 - 5)"
            ],
            "text/latex": "$\\displaystyle \\frac{2 x + 5}{\\sqrt{2 x^{2} - 5}}$"
          },
          "metadata": {},
          "execution_count": 29
        }
      ]
    },
    {
      "cell_type": "code",
      "source": [
        "expand(exemplo1)"
      ],
      "metadata": {
        "colab": {
          "base_uri": "https://localhost:8080/",
          "height": 55
        },
        "id": "qPEUJ9wyJfkz",
        "outputId": "5f7e2b6e-f24d-433d-9d5e-d99353163531"
      },
      "execution_count": null,
      "outputs": [
        {
          "output_type": "execute_result",
          "data": {
            "text/plain": [
              "2*x/sqrt(2*x**2 - 5) + 5/sqrt(2*x**2 - 5)"
            ],
            "text/latex": "$\\displaystyle \\frac{2 x}{\\sqrt{2 x^{2} - 5}} + \\frac{5}{\\sqrt{2 x^{2} - 5}}$"
          },
          "metadata": {},
          "execution_count": 31
        }
      ]
    },
    {
      "cell_type": "code",
      "source": [
        "limit(exemplo1, x, -oo)"
      ],
      "metadata": {
        "colab": {
          "base_uri": "https://localhost:8080/",
          "height": 39
        },
        "id": "yOTaNUmDJrYu",
        "outputId": "a5cb6161-39d3-4a3c-b869-bab59b69b910"
      },
      "execution_count": null,
      "outputs": [
        {
          "output_type": "execute_result",
          "data": {
            "text/plain": [
              "-sqrt(2)"
            ],
            "text/latex": "$\\displaystyle - \\sqrt{2}$"
          },
          "metadata": {},
          "execution_count": 35
        }
      ]
    },
    {
      "cell_type": "code",
      "source": [
        "polinomioMesmoGrau = (3*x**2 + x + 50) / (2*x**2 + 900*x + 1)\n",
        "polinomioMesmoGrau"
      ],
      "metadata": {
        "colab": {
          "base_uri": "https://localhost:8080/",
          "height": 55
        },
        "id": "XGDrX3UDJyQ2",
        "outputId": "8a32c9c6-e090-4ef5-b214-9b6798fb8e0a"
      },
      "execution_count": null,
      "outputs": [
        {
          "output_type": "execute_result",
          "data": {
            "text/plain": [
              "(3*x**2 + x + 50)/(2*x**2 + 900*x + 1)"
            ],
            "text/latex": "$\\displaystyle \\frac{3 x^{2} + x + 50}{2 x^{2} + 900 x + 1}$"
          },
          "metadata": {},
          "execution_count": 37
        }
      ]
    },
    {
      "cell_type": "code",
      "source": [
        "limit(polinomioMesmoGrau, x, oo) #em polinomios do mesmo grau (x²) se conservam os coeficientes"
      ],
      "metadata": {
        "colab": {
          "base_uri": "https://localhost:8080/",
          "height": 51
        },
        "id": "yz_2D8LhL-Lq",
        "outputId": "a31c14d2-257b-4b3a-d284-66cb83a51f00"
      },
      "execution_count": null,
      "outputs": [
        {
          "output_type": "execute_result",
          "data": {
            "text/plain": [
              "3/2"
            ],
            "text/latex": "$\\displaystyle \\frac{3}{2}$"
          },
          "metadata": {},
          "execution_count": 42
        }
      ]
    },
    {
      "cell_type": "code",
      "source": [
        "polinomiosMaiorGrau = (6*x**4 + x + 50) / (2*x**2 + 900*x + 1)\n",
        "polinomiosMaiorGrau"
      ],
      "metadata": {
        "colab": {
          "base_uri": "https://localhost:8080/",
          "height": 55
        },
        "id": "phXRLmNHMMZr",
        "outputId": "b2164dc4-63df-4948-a399-ed9ed0eec571"
      },
      "execution_count": null,
      "outputs": [
        {
          "output_type": "execute_result",
          "data": {
            "text/plain": [
              "(6*x**4 + x + 50)/(2*x**2 + 900*x + 1)"
            ],
            "text/latex": "$\\displaystyle \\frac{6 x^{4} + x + 50}{2 x^{2} + 900 x + 1}$"
          },
          "metadata": {},
          "execution_count": 45
        }
      ]
    },
    {
      "cell_type": "code",
      "source": [
        "limit(polinomiosMaiorGrau, x, oo) #se o polinomio de cima tem maior grau que o de baixo, o limite sempre é infinito"
      ],
      "metadata": {
        "colab": {
          "base_uri": "https://localhost:8080/",
          "height": 37
        },
        "id": "4yPLwHE2NZGN",
        "outputId": "5b69c5c0-5a2a-4406-c704-925690e9fbb6"
      },
      "execution_count": null,
      "outputs": [
        {
          "output_type": "execute_result",
          "data": {
            "text/plain": [
              "oo"
            ],
            "text/latex": "$\\displaystyle \\infty$"
          },
          "metadata": {},
          "execution_count": 46
        }
      ]
    },
    {
      "cell_type": "code",
      "source": [
        "polinomiosMenorGrau = (450*x**4 + 8*x**3 + 50) / (x**8 + x + 1)\n",
        "polinomiosMenorGrau"
      ],
      "metadata": {
        "colab": {
          "base_uri": "https://localhost:8080/",
          "height": 55
        },
        "id": "KIhP3127Nj9P",
        "outputId": "56db8c1f-bd80-4a88-f59e-38f697603dc7"
      },
      "execution_count": null,
      "outputs": [
        {
          "output_type": "execute_result",
          "data": {
            "text/plain": [
              "(450*x**4 + 8*x**3 + 50)/(x**8 + x + 1)"
            ],
            "text/latex": "$\\displaystyle \\frac{450 x^{4} + 8 x^{3} + 50}{x^{8} + x + 1}$"
          },
          "metadata": {},
          "execution_count": 48
        }
      ]
    },
    {
      "cell_type": "code",
      "source": [
        "limit(polinomiosMenorGrau, x, oo) #se o polinomio de cima tem menor grau que o de baixo, o limite sempre é 0"
      ],
      "metadata": {
        "colab": {
          "base_uri": "https://localhost:8080/",
          "height": 37
        },
        "id": "xnOLJlc7SJhp",
        "outputId": "6f07a143-d173-413e-908e-9b2e724a7e13"
      },
      "execution_count": null,
      "outputs": [
        {
          "output_type": "execute_result",
          "data": {
            "text/plain": [
              "0"
            ],
            "text/latex": "$\\displaystyle 0$"
          },
          "metadata": {},
          "execution_count": 67
        }
      ]
    },
    {
      "cell_type": "code",
      "source": [],
      "metadata": {
        "id": "KFAsiNh5SMjO"
      },
      "execution_count": null,
      "outputs": []
    }
  ]
}