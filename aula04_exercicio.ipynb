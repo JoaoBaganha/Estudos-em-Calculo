{
  "cells": [
    {
      "cell_type": "code",
      "execution_count": null,
      "metadata": {
        "id": "0JJ9CV11vAsj"
      },
      "outputs": [],
      "source": [
        "from sympy import *"
      ]
    },
    {
      "cell_type": "code",
      "execution_count": null,
      "metadata": {
        "id": "sfvC8VcsvAsl"
      },
      "outputs": [],
      "source": [
        "x = symbols('x')\n",
        "a = symbols('a')\n",
        "y = symbols('y')"
      ]
    },
    {
      "cell_type": "code",
      "execution_count": null,
      "metadata": {
        "id": "zEctV7UnvAsm",
        "outputId": "dc988ced-2002-475d-92b3-2ecd10cf6eab"
      },
      "outputs": [
        {
          "data": {
            "text/latex": [
              "$\\displaystyle \\frac{30}{77}$"
            ],
            "text/plain": [
              "30/77"
            ]
          },
          "execution_count": 27,
          "metadata": {},
          "output_type": "execute_result"
        }
      ],
      "source": [
        "Rational(20,21)*Rational(9,22)"
      ]
    },
    {
      "cell_type": "code",
      "execution_count": null,
      "metadata": {
        "id": "f1tR4EiWvAsn",
        "outputId": "f87532a2-8e79-437a-c06f-8df17b299d00"
      },
      "outputs": [
        {
          "data": {
            "text/plain": [
              "[x**2]"
            ]
          },
          "execution_count": 31,
          "metadata": {},
          "output_type": "execute_result"
        }
      ],
      "source": [
        "solve(Eq((x-4)/x, (x**2-4*x)/a), a)"
      ]
    },
    {
      "cell_type": "code",
      "execution_count": null,
      "metadata": {
        "id": "w8CUtHV8vAso",
        "outputId": "f74fe934-a00f-46bb-db83-750fbffb97bc"
      },
      "outputs": [
        {
          "data": {
            "text/plain": [
              "[6*y**2]"
            ]
          },
          "execution_count": 37,
          "metadata": {},
          "output_type": "execute_result"
        }
      ],
      "source": [
        "solve(Eq(5/(2*y),15*y/a), a)"
      ]
    },
    {
      "cell_type": "code",
      "execution_count": null,
      "metadata": {
        "id": "dsP08nB9vAso"
      },
      "outputs": [],
      "source": []
    }
  ],
  "metadata": {
    "kernelspec": {
      "display_name": "venv",
      "language": "python",
      "name": "python3"
    },
    "language_info": {
      "codemirror_mode": {
        "name": "ipython",
        "version": 3
      },
      "file_extension": ".py",
      "mimetype": "text/x-python",
      "name": "python",
      "nbconvert_exporter": "python",
      "pygments_lexer": "ipython3",
      "version": "3.12.1"
    },
    "colab": {
      "provenance": []
    }
  },
  "nbformat": 4,
  "nbformat_minor": 0
}